{
 "cells": [
  {
   "cell_type": "markdown",
   "metadata": {},
   "source": [
    "## 使用numpy 实现kqv计算"
   ]
  },
  {
   "cell_type": "markdown",
   "metadata": {},
   "source": [
    "- 学习目标\n",
    "1. 学习numpy库的使用\n",
    "2. 学习numpy库在计算中的优势"
   ]
  },
  {
   "cell_type": "markdown",
   "metadata": {},
   "source": [
    "实验结论：使用numpy实现kqv计算比使用原生python实现要快很多，numpy底层使用C语言实现，计算速度更快。"
   ]
  },
  {
   "cell_type": "markdown",
   "metadata": {},
   "source": [
    "### 实验设计\n",
    "1. 使用numpy实现kqv计算\n",
    "2. 使用原生python实现kqv计算\n",
    "3. 对比两种实现的计算速度差异"
   ]
  },
  {
   "cell_type": "markdown",
   "metadata": {},
   "source": [
    "### numpy实现"
   ]
  },
  {
   "cell_type": "code",
   "execution_count": 14,
   "metadata": {},
   "outputs": [
    {
     "name": "stdout",
     "output_type": "stream",
     "text": [
      "numpy time: 0.09235835075378418\n"
     ]
    }
   ],
   "source": [
    "import numpy as np\n",
    "\n",
    "# 设置 W 矩阵维度\n",
    "def kqv(X, W_K, W_Q, W_V):\n",
    "    return np.dot(X, W_K), np.dot(X, W_Q), np.dot(X, W_V)\n",
    "d_model = 512\n",
    "W_K, W_Q, W_V = np.random.randn(d_model, d_model), np.random.randn(d_model, d_model), np.random.randn(d_model, d_model)\n",
    "X = np.random.randn(10, d_model)\n",
    "\n",
    "# 对比numpy实现和torch实现的计算速度差异\n",
    "import time\n",
    "start = time.time()\n",
    "\n",
    "# 计算 1000 次kqv\n",
    "for i in range(100):\n",
    "    k, q, v = kqv(X, W_K, W_Q, W_V)\n",
    "\n",
    "print('numpy time:', time.time() - start)"
   ]
  },
  {
   "cell_type": "markdown",
   "metadata": {},
   "source": [
    "### python 实现"
   ]
  },
  {
   "cell_type": "code",
   "execution_count": 15,
   "metadata": {},
   "outputs": [
    {
     "name": "stdout",
     "output_type": "stream",
     "text": [
      "python time: 72.09992718696594\n"
     ]
    }
   ],
   "source": [
    "# 使用原生 python 实现,不使用 numpy\n",
    "\n",
    "# 把kqv计算拆分成矩阵乘法\n",
    "w_k = W_K.tolist()\n",
    "w_q = W_Q.tolist()\n",
    "w_v = W_V.tolist()\n",
    "\n",
    "# 定义矩阵乘法函数\n",
    "def matrix_multiply(A, B):\n",
    "    return [[sum(a*b for a, b in zip(A_row, B_col)) for B_col in zip(*B)] for A_row in A]\n",
    "\n",
    "# 定义kqv计算函数\n",
    "def kqv_python(X, w_k, w_q, w_v):\n",
    "    return matrix_multiply(X, w_k), matrix_multiply(X, w_q), matrix_multiply(X, w_v)\n",
    "\n",
    "start = time.time()\n",
    "# 计算 10000 次kqv\n",
    "for i in range(100):\n",
    "    k, q, v = kqv_python(X.tolist(), w_k, w_q, w_v)\n",
    "\n",
    "print('python time:', time.time() - start)"
   ]
  },
  {
   "cell_type": "markdown",
   "metadata": {},
   "source": [
    "### 对比结果\n",
    "- numpy time: 0.092\n",
    "- python time: 72.010\n",
    "\n",
    "### 结论\n",
    "使用numpy实现kqv计算比使用原生python实现要快很多，numpy底层使用C语言实现，计算速度更快。\n"
   ]
  },
  {
   "cell_type": "code",
   "execution_count": 17,
   "metadata": {},
   "outputs": [
    {
     "name": "stdout",
     "output_type": "stream",
     "text": [
      "[1, 2, 3]\n",
      "1 2 3\n"
     ]
    }
   ],
   "source": [
    "# python * list 的用法\n",
    "a = [1, 2, 3]\n",
    "print(a)\n",
    "print(*a)"
   ]
  },
  {
   "cell_type": "code",
   "execution_count": 21,
   "metadata": {},
   "outputs": [
    {
     "name": "stdout",
     "output_type": "stream",
     "text": [
      "[[1, 2, 3], [4, 5, 6]]\n",
      "[1, 2, 3] [4, 5, 6]\n",
      "[(1, 4), (2, 5), (3, 6)]\n"
     ]
    }
   ],
   "source": [
    "a = [[1, 2, 3], [4, 5, 6]]\n",
    "print(a)\n",
    "print(*a)\n",
    "print(list((zip(*a))))"
   ]
  },
  {
   "cell_type": "code",
   "execution_count": null,
   "metadata": {},
   "outputs": [],
   "source": []
  }
 ],
 "metadata": {
  "kernelspec": {
   "display_name": "nlp",
   "language": "python",
   "name": "python3"
  },
  "language_info": {
   "codemirror_mode": {
    "name": "ipython",
    "version": 3
   },
   "file_extension": ".py",
   "mimetype": "text/x-python",
   "name": "python",
   "nbconvert_exporter": "python",
   "pygments_lexer": "ipython3",
   "version": "3.9.21"
  }
 },
 "nbformat": 4,
 "nbformat_minor": 2
}
