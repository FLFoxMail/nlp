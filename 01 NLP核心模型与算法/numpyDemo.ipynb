{
 "cells": [
  {
   "cell_type": "markdown",
   "metadata": {},
   "source": [
    "## Numpy 常用指令练习"
   ]
  },
  {
   "cell_type": "markdown",
   "metadata": {},
   "source": [
    "###  Creating Arrays"
   ]
  },
  {
   "cell_type": "code",
   "execution_count": 2,
   "metadata": {},
   "outputs": [],
   "source": [
    "import numpy as np"
   ]
  },
  {
   "cell_type": "code",
   "execution_count": 3,
   "metadata": {},
   "outputs": [
    {
     "name": "stdout",
     "output_type": "stream",
     "text": [
      "[1 2 3]\n"
     ]
    }
   ],
   "source": [
    "a = np.array([1,2,3])\n",
    "print(a)"
   ]
  },
  {
   "cell_type": "code",
   "execution_count": 4,
   "metadata": {},
   "outputs": [
    {
     "name": "stdout",
     "output_type": "stream",
     "text": [
      "[1.5 2.  3. ]\n",
      "[2. 5.]\n"
     ]
    }
   ],
   "source": [
    "b = np.array([(1.5,2,3), (4,5,6)], dtype = float)\n",
    "print(b[0,:])\n",
    "print(b[:,1])"
   ]
  },
  {
   "cell_type": "code",
   "execution_count": 5,
   "metadata": {},
   "outputs": [
    {
     "name": "stdout",
     "output_type": "stream",
     "text": [
      "[[1.5 2.  3. ]\n",
      " [4.  5.  6. ]]\n",
      "[[1.5 2.  3. ]\n",
      " [3.  2.  1. ]]\n",
      "[[1.5 4. ]\n",
      " [3.  4. ]]\n"
     ]
    }
   ],
   "source": [
    "c = np.array([[(1.5,2,3), (4,5,6)], [(3,2,1), (4,5,6)]], \n",
    "                 dtype = float)\n",
    "print(c[0,:,:])\n",
    "print(c[:,0,:])\n",
    "print(c[:,:,0])"
   ]
  },
  {
   "cell_type": "markdown",
   "metadata": {},
   "source": [
    "###  Initial Placeholders"
   ]
  },
  {
   "cell_type": "code",
   "execution_count": 6,
   "metadata": {},
   "outputs": [],
   "source": [
    "# 创建一个全为0的数组\n",
    "np.zeros((3,4))\n",
    "# 创建一个全为1的数组，dtype可以指定数据类型\n",
    "np.ones((2,3,4),dtype=np.int16)\n",
    "# np.arange 创建一个一维数组，指定起始值，终止值，步长\n",
    "d = np.arange(10,25,5)\n",
    "# np.linspace 创建一个一维数组，指定起始值，终止值，元素个数，endpoint表示是否包含终止值\n",
    "d1 = np.linspace(0,2,9)    \n",
    "e = np.full((2,2),7)            \n",
    "f = np.eye(2)                  \n",
    "g = np.random.random((2,2))    \n",
    "# np.empty 创建一个未初始化的数组，他是内存的随机值\n",
    "h = np.empty((3,2))"
   ]
  },
  {
   "cell_type": "markdown",
   "metadata": {},
   "source": [
    "###  I/O     Saving & Loading On Disk"
   ]
  },
  {
   "cell_type": "code",
   "execution_count": 7,
   "metadata": {},
   "outputs": [
    {
     "name": "stdout",
     "output_type": "stream",
     "text": [
      "[1 2 3]\n",
      "[[1.5 2.  3. ]\n",
      " [4.  5.  6. ]]\n"
     ]
    }
   ],
   "source": [
    "np.save('my_array', a)\n",
    "# npz 与 npy的区别是npz可以保存多个数组\n",
    "np.savez('array.npz', a, b)\n",
    "# 加载 npz\n",
    "npzfile = np.load('array.npz')\n",
    "a,b = npzfile['arr_0'], npzfile['arr_1']\n",
    "print(a)\n",
    "print(b)"
   ]
  },
  {
   "cell_type": "markdown",
   "metadata": {},
   "source": [
    "### I/O Saving & Loading Text Files"
   ]
  },
  {
   "cell_type": "code",
   "execution_count": 8,
   "metadata": {},
   "outputs": [
    {
     "name": "stdout",
     "output_type": "stream",
     "text": [
      "[1. 2. 3.]\n"
     ]
    },
    {
     "data": {
      "text/plain": [
       "<function print>"
      ]
     },
     "execution_count": 8,
     "metadata": {},
     "output_type": "execute_result"
    }
   ],
   "source": [
    "np.savetxt(\"myfile.txt\", a, delimiter=\",\")\n",
    "aa = np.loadtxt(\"myfile.txt\", delimiter=\",\")\n",
    "print(aa)\n",
    "# 创建csv文件,delimiter指定分隔符, 数据见不换行\n",
    "np.savetxt(\"test.csv\", b, delimiter=\",\", fmt=\"%d\")\n",
    "# 加载csv文件\n",
    "b = np.loadtxt('test.csv', delimiter=',')\n",
    "print"
   ]
  },
  {
   "cell_type": "markdown",
   "metadata": {},
   "source": [
    "###  Data Types"
   ]
  },
  {
   "cell_type": "markdown",
   "metadata": {},
   "source": [
    "numpy 的数据类型包括\n",
    "- np.int64 有符号64位整数\n",
    "- np.float32 标准单精度浮点数\n",
    "- np.complex 复数\n",
    "- np.bool 布尔值\n",
    "- np.object Python对象\n",
    "- np.string_ 固定长度的字符串\n",
    "- np.unicode_ 固定长度的Unicode字符串\n",
    "注：string_ 和unicode_ 在未来的版本中可能会被移除"
   ]
  },
  {
   "cell_type": "markdown",
   "metadata": {},
   "source": [
    "### Array Attributes"
   ]
  },
  {
   "cell_type": "code",
   "execution_count": 9,
   "metadata": {},
   "outputs": [
    {
     "name": "stdout",
     "output_type": "stream",
     "text": [
      "[1 2 3]\n",
      "(3,)\n",
      "1\n",
      "3\n",
      "int64\n",
      "int64\n",
      "[1. 2. 3.]\n"
     ]
    }
   ],
   "source": [
    "print(a) \n",
    "print(a.shape) # 查看数组形状\n",
    "print(a.ndim) # 查看数组维度\n",
    "print(a.size)  # 查看数组元素个数\n",
    "print(a.dtype) # 查看数组数据类型\n",
    "print(a.dtype.name) # 查看数组数据类型名称\n",
    "# 数据类型转换\n",
    "print(a.astype(float))"
   ]
  },
  {
   "cell_type": "markdown",
   "metadata": {},
   "source": [
    "### Asking for Help"
   ]
  },
  {
   "cell_type": "code",
   "execution_count": 10,
   "metadata": {},
   "outputs": [
    {
     "name": "stdout",
     "output_type": "stream",
     "text": [
      "Data-type of the array's elements.\n",
      "\n",
      ".. warning::\n",
      "\n",
      "    Setting ``arr.dtype`` is discouraged and may be deprecated in the\n",
      "    future.  Setting will replace the ``dtype`` without modifying the\n",
      "    memory (see also `ndarray.view` and `ndarray.astype`).\n",
      "\n",
      "Parameters\n",
      "----------\n",
      "None\n",
      "\n",
      "Returns\n",
      "-------\n",
      "d : numpy dtype object\n",
      "\n",
      "See Also\n",
      "--------\n",
      "ndarray.astype : Cast the values contained in the array to a new data-type.\n",
      "ndarray.view : Create a view of the same data but a different data-type.\n",
      "numpy.dtype\n",
      "\n",
      "Examples\n",
      "--------\n",
      ">>> x\n",
      "array([[0, 1],\n",
      "       [2, 3]])\n",
      ">>> x.dtype\n",
      "dtype('int32')\n",
      ">>> type(x.dtype)\n",
      "<type 'numpy.dtype'>\n",
      "None\n"
     ]
    }
   ],
   "source": [
    "# np.info() 可以查看numpy的文档\n",
    "print(np.info(np.ndarray.dtype))"
   ]
  },
  {
   "cell_type": "code",
   "execution_count": 11,
   "metadata": {},
   "outputs": [
    {
     "name": "stdout",
     "output_type": "stream",
     "text": [
      "einsum(subscripts, *operands, out=None, dtype=None, order='K',\n",
      "       casting='safe', optimize=False)\n",
      "\n",
      "Evaluates the Einstein summation convention on the operands.\n",
      "\n",
      "Using the Einstein summation convention, many common multi-dimensional,\n",
      "linear algebraic array operations can be represented in a simple fashion.\n",
      "In *implicit* mode `einsum` computes these values.\n",
      "\n",
      "In *explicit* mode, `einsum` provides further flexibility to compute\n",
      "other array operations that might not be considered classical Einstein\n",
      "summation operations, by disabling, or forcing summation over specified\n",
      "subscript labels.\n",
      "\n",
      "See the notes and examples for clarification.\n",
      "\n",
      "Parameters\n",
      "----------\n",
      "subscripts : str\n",
      "    Specifies the subscripts for summation as comma separated list of\n",
      "    subscript labels. An implicit (classical Einstein summation)\n",
      "    calculation is performed unless the explicit indicator '->' is\n",
      "    included as well as subscript labels of the precise output form.\n",
      "operands : list of array_like\n",
      "    These are the arrays for the operation.\n",
      "out : ndarray, optional\n",
      "    If provided, the calculation is done into this array.\n",
      "dtype : {data-type, None}, optional\n",
      "    If provided, forces the calculation to use the data type specified.\n",
      "    Note that you may have to also give a more liberal `casting`\n",
      "    parameter to allow the conversions. Default is None.\n",
      "order : {'C', 'F', 'A', 'K'}, optional\n",
      "    Controls the memory layout of the output. 'C' means it should\n",
      "    be C contiguous. 'F' means it should be Fortran contiguous,\n",
      "    'A' means it should be 'F' if the inputs are all 'F', 'C' otherwise.\n",
      "    'K' means it should be as close to the layout as the inputs as\n",
      "    is possible, including arbitrarily permuted axes.\n",
      "    Default is 'K'.\n",
      "casting : {'no', 'equiv', 'safe', 'same_kind', 'unsafe'}, optional\n",
      "    Controls what kind of data casting may occur.  Setting this to\n",
      "    'unsafe' is not recommended, as it can adversely affect accumulations.\n",
      "\n",
      "    * 'no' means the data types should not be cast at all.\n",
      "    * 'equiv' means only byte-order changes are allowed.\n",
      "    * 'safe' means only casts which can preserve values are allowed.\n",
      "    * 'same_kind' means only safe casts or casts within a kind,\n",
      "      like float64 to float32, are allowed.\n",
      "    * 'unsafe' means any data conversions may be done.\n",
      "\n",
      "    Default is 'safe'.\n",
      "optimize : {False, True, 'greedy', 'optimal'}, optional\n",
      "    Controls if intermediate optimization should occur. No optimization\n",
      "    will occur if False and True will default to the 'greedy' algorithm.\n",
      "    Also accepts an explicit contraction list from the ``np.einsum_path``\n",
      "    function. See ``np.einsum_path`` for more details. Defaults to False.\n",
      "\n",
      "Returns\n",
      "-------\n",
      "output : ndarray\n",
      "    The calculation based on the Einstein summation convention.\n",
      "\n",
      "See Also\n",
      "--------\n",
      "einsum_path, dot, inner, outer, tensordot, linalg.multi_dot\n",
      "einsum:\n",
      "    Similar verbose interface is provided by the\n",
      "    `einops <https://github.com/arogozhnikov/einops>`_ package to cover\n",
      "    additional operations: transpose, reshape/flatten, repeat/tile,\n",
      "    squeeze/unsqueeze and reductions.\n",
      "    The `opt_einsum <https://optimized-einsum.readthedocs.io/en/stable/>`_\n",
      "    optimizes contraction order for einsum-like expressions\n",
      "    in backend-agnostic manner.\n",
      "\n",
      "Notes\n",
      "-----\n",
      ".. versionadded:: 1.6.0\n",
      "\n",
      "The Einstein summation convention can be used to compute\n",
      "many multi-dimensional, linear algebraic array operations. `einsum`\n",
      "provides a succinct way of representing these.\n",
      "\n",
      "A non-exhaustive list of these operations,\n",
      "which can be computed by `einsum`, is shown below along with examples:\n",
      "\n",
      "* Trace of an array, :py:func:`numpy.trace`.\n",
      "* Return a diagonal, :py:func:`numpy.diag`.\n",
      "* Array axis summations, :py:func:`numpy.sum`.\n",
      "* Transpositions and permutations, :py:func:`numpy.transpose`.\n",
      "* Matrix multiplication and dot product, :py:func:`numpy.matmul`\n",
      "    :py:func:`numpy.dot`.\n",
      "* Vector inner and outer products, :py:func:`numpy.inner`\n",
      "    :py:func:`numpy.outer`.\n",
      "* Broadcasting, element-wise and scalar multiplication,\n",
      "    :py:func:`numpy.multiply`.\n",
      "* Tensor contractions, :py:func:`numpy.tensordot`.\n",
      "* Chained array operations, in efficient calculation order,\n",
      "    :py:func:`numpy.einsum_path`.\n",
      "\n",
      "The subscripts string is a comma-separated list of subscript labels,\n",
      "where each label refers to a dimension of the corresponding operand.\n",
      "Whenever a label is repeated it is summed, so ``np.einsum('i,i', a, b)``\n",
      "is equivalent to :py:func:`np.inner(a,b) <numpy.inner>`. If a label\n",
      "appears only once, it is not summed, so ``np.einsum('i', a)``\n",
      "produces a view of ``a`` with no changes. A further example\n",
      "``np.einsum('ij,jk', a, b)`` describes traditional matrix multiplication\n",
      "and is equivalent to :py:func:`np.matmul(a,b) <numpy.matmul>`.\n",
      "Repeated subscript labels in one operand take the diagonal.\n",
      "For example, ``np.einsum('ii', a)`` is equivalent to\n",
      ":py:func:`np.trace(a) <numpy.trace>`.\n",
      "\n",
      "In *implicit mode*, the chosen subscripts are important\n",
      "since the axes of the output are reordered alphabetically.  This\n",
      "means that ``np.einsum('ij', a)`` doesn't affect a 2D array, while\n",
      "``np.einsum('ji', a)`` takes its transpose. Additionally,\n",
      "``np.einsum('ij,jk', a, b)`` returns a matrix multiplication, while,\n",
      "``np.einsum('ij,jh', a, b)`` returns the transpose of the\n",
      "multiplication since subscript 'h' precedes subscript 'i'.\n",
      "\n",
      "In *explicit mode* the output can be directly controlled by\n",
      "specifying output subscript labels.  This requires the\n",
      "identifier '->' as well as the list of output subscript labels.\n",
      "This feature increases the flexibility of the function since\n",
      "summing can be disabled or forced when required. The call\n",
      "``np.einsum('i->', a)`` is like :py:func:`np.sum(a) <numpy.sum>`\n",
      "if ``a`` is a 1-D array, and ``np.einsum('ii->i', a)``\n",
      "is like :py:func:`np.diag(a) <numpy.diag>` if ``a`` is a square 2-D array.\n",
      "The difference is that `einsum` does not allow broadcasting by default. \n",
      "Additionally ``np.einsum('ij,jh->ih', a, b)`` directly specifies the\n",
      "order of the output subscript labels and therefore returns matrix\n",
      "multiplication, unlike the example above in implicit mode.\n",
      "\n",
      "To enable and control broadcasting, use an ellipsis.  Default\n",
      "NumPy-style broadcasting is done by adding an ellipsis\n",
      "to the left of each term, like ``np.einsum('...ii->...i', a)``.\n",
      "``np.einsum('...i->...', a)`` is like \n",
      ":py:func:`np.sum(a, axis=-1) <numpy.sum>` for array ``a`` of any shape.\n",
      "To take the trace along the first and last axes,\n",
      "you can do ``np.einsum('i...i', a)``, or to do a matrix-matrix\n",
      "product with the left-most indices instead of rightmost, one can do\n",
      "``np.einsum('ij...,jk...->ik...', a, b)``.\n",
      "\n",
      "When there is only one operand, no axes are summed, and no output\n",
      "parameter is provided, a view into the operand is returned instead\n",
      "of a new array.  Thus, taking the diagonal as ``np.einsum('ii->i', a)``\n",
      "produces a view (changed in version 1.10.0).\n",
      "\n",
      "`einsum` also provides an alternative way to provide the subscripts and\n",
      "operands as ``einsum(op0, sublist0, op1, sublist1, ..., [sublistout])``.\n",
      "If the output shape is not provided in this format `einsum` will be\n",
      "calculated in implicit mode, otherwise it will be performed explicitly.\n",
      "The examples below have corresponding `einsum` calls with the two\n",
      "parameter methods.\n",
      "\n",
      ".. versionadded:: 1.10.0\n",
      "\n",
      "Views returned from einsum are now writeable whenever the input array\n",
      "is writeable. For example, ``np.einsum('ijk...->kji...', a)`` will now\n",
      "have the same effect as :py:func:`np.swapaxes(a, 0, 2) <numpy.swapaxes>`\n",
      "and ``np.einsum('ii->i', a)`` will return a writeable view of the diagonal\n",
      "of a 2D array.\n",
      "\n",
      ".. versionadded:: 1.12.0\n",
      "\n",
      "Added the ``optimize`` argument which will optimize the contraction order\n",
      "of an einsum expression. For a contraction with three or more operands\n",
      "this can greatly increase the computational efficiency at the cost of\n",
      "a larger memory footprint during computation.\n",
      "\n",
      "Typically a 'greedy' algorithm is applied which empirical tests have shown\n",
      "returns the optimal path in the majority of cases. In some cases 'optimal'\n",
      "will return the superlative path through a more expensive, exhaustive\n",
      "search. For iterative calculations it may be advisable to calculate\n",
      "the optimal path once and reuse that path by supplying it as an argument.\n",
      "An example is given below.\n",
      "\n",
      "See :py:func:`numpy.einsum_path` for more details.\n",
      "\n",
      "Examples\n",
      "--------\n",
      ">>> a = np.arange(25).reshape(5,5)\n",
      ">>> b = np.arange(5)\n",
      ">>> c = np.arange(6).reshape(2,3)\n",
      "\n",
      "Trace of a matrix:\n",
      "\n",
      ">>> np.einsum('ii', a)\n",
      "60\n",
      ">>> np.einsum(a, [0,0])\n",
      "60\n",
      ">>> np.trace(a)\n",
      "60\n",
      "\n",
      "Extract the diagonal (requires explicit form):\n",
      "\n",
      ">>> np.einsum('ii->i', a)\n",
      "array([ 0,  6, 12, 18, 24])\n",
      ">>> np.einsum(a, [0,0], [0])\n",
      "array([ 0,  6, 12, 18, 24])\n",
      ">>> np.diag(a)\n",
      "array([ 0,  6, 12, 18, 24])\n",
      "\n",
      "Sum over an axis (requires explicit form):\n",
      "\n",
      ">>> np.einsum('ij->i', a)\n",
      "array([ 10,  35,  60,  85, 110])\n",
      ">>> np.einsum(a, [0,1], [0])\n",
      "array([ 10,  35,  60,  85, 110])\n",
      ">>> np.sum(a, axis=1)\n",
      "array([ 10,  35,  60,  85, 110])\n",
      "\n",
      "For higher dimensional arrays summing a single axis can be done\n",
      "with ellipsis:\n",
      "\n",
      ">>> np.einsum('...j->...', a)\n",
      "array([ 10,  35,  60,  85, 110])\n",
      ">>> np.einsum(a, [Ellipsis,1], [Ellipsis])\n",
      "array([ 10,  35,  60,  85, 110])\n",
      "\n",
      "Compute a matrix transpose, or reorder any number of axes:\n",
      "\n",
      ">>> np.einsum('ji', c)\n",
      "array([[0, 3],\n",
      "       [1, 4],\n",
      "       [2, 5]])\n",
      ">>> np.einsum('ij->ji', c)\n",
      "array([[0, 3],\n",
      "       [1, 4],\n",
      "       [2, 5]])\n",
      ">>> np.einsum(c, [1,0])\n",
      "array([[0, 3],\n",
      "       [1, 4],\n",
      "       [2, 5]])\n",
      ">>> np.transpose(c)\n",
      "array([[0, 3],\n",
      "       [1, 4],\n",
      "       [2, 5]])\n",
      "\n",
      "Vector inner products:\n",
      "\n",
      ">>> np.einsum('i,i', b, b)\n",
      "30\n",
      ">>> np.einsum(b, [0], b, [0])\n",
      "30\n",
      ">>> np.inner(b,b)\n",
      "30\n",
      "\n",
      "Matrix vector multiplication:\n",
      "\n",
      ">>> np.einsum('ij,j', a, b)\n",
      "array([ 30,  80, 130, 180, 230])\n",
      ">>> np.einsum(a, [0,1], b, [1])\n",
      "array([ 30,  80, 130, 180, 230])\n",
      ">>> np.dot(a, b)\n",
      "array([ 30,  80, 130, 180, 230])\n",
      ">>> np.einsum('...j,j', a, b)\n",
      "array([ 30,  80, 130, 180, 230])\n",
      "\n",
      "Broadcasting and scalar multiplication:\n",
      "\n",
      ">>> np.einsum('..., ...', 3, c)\n",
      "array([[ 0,  3,  6],\n",
      "       [ 9, 12, 15]])\n",
      ">>> np.einsum(',ij', 3, c)\n",
      "array([[ 0,  3,  6],\n",
      "       [ 9, 12, 15]])\n",
      ">>> np.einsum(3, [Ellipsis], c, [Ellipsis])\n",
      "array([[ 0,  3,  6],\n",
      "       [ 9, 12, 15]])\n",
      ">>> np.multiply(3, c)\n",
      "array([[ 0,  3,  6],\n",
      "       [ 9, 12, 15]])\n",
      "\n",
      "Vector outer product:\n",
      "\n",
      ">>> np.einsum('i,j', np.arange(2)+1, b)\n",
      "array([[0, 1, 2, 3, 4],\n",
      "       [0, 2, 4, 6, 8]])\n",
      ">>> np.einsum(np.arange(2)+1, [0], b, [1])\n",
      "array([[0, 1, 2, 3, 4],\n",
      "       [0, 2, 4, 6, 8]])\n",
      ">>> np.outer(np.arange(2)+1, b)\n",
      "array([[0, 1, 2, 3, 4],\n",
      "       [0, 2, 4, 6, 8]])\n",
      "\n",
      "Tensor contraction:\n",
      "\n",
      ">>> a = np.arange(60.).reshape(3,4,5)\n",
      ">>> b = np.arange(24.).reshape(4,3,2)\n",
      ">>> np.einsum('ijk,jil->kl', a, b)\n",
      "array([[4400., 4730.],\n",
      "       [4532., 4874.],\n",
      "       [4664., 5018.],\n",
      "       [4796., 5162.],\n",
      "       [4928., 5306.]])\n",
      ">>> np.einsum(a, [0,1,2], b, [1,0,3], [2,3])\n",
      "array([[4400., 4730.],\n",
      "       [4532., 4874.],\n",
      "       [4664., 5018.],\n",
      "       [4796., 5162.],\n",
      "       [4928., 5306.]])\n",
      ">>> np.tensordot(a,b, axes=([1,0],[0,1]))\n",
      "array([[4400., 4730.],\n",
      "       [4532., 4874.],\n",
      "       [4664., 5018.],\n",
      "       [4796., 5162.],\n",
      "       [4928., 5306.]])\n",
      "\n",
      "Writeable returned arrays (since version 1.10.0):\n",
      "\n",
      ">>> a = np.zeros((3, 3))\n",
      ">>> np.einsum('ii->i', a)[:] = 1\n",
      ">>> a\n",
      "array([[1., 0., 0.],\n",
      "       [0., 1., 0.],\n",
      "       [0., 0., 1.]])\n",
      "\n",
      "Example of ellipsis use:\n",
      "\n",
      ">>> a = np.arange(6).reshape((3,2))\n",
      ">>> b = np.arange(12).reshape((4,3))\n",
      ">>> np.einsum('ki,jk->ij', a, b)\n",
      "array([[10, 28, 46, 64],\n",
      "       [13, 40, 67, 94]])\n",
      ">>> np.einsum('ki,...k->i...', a, b)\n",
      "array([[10, 28, 46, 64],\n",
      "       [13, 40, 67, 94]])\n",
      ">>> np.einsum('k...,jk', a, b)\n",
      "array([[10, 28, 46, 64],\n",
      "       [13, 40, 67, 94]])\n",
      "\n",
      "Chained array operations. For more complicated contractions, speed ups\n",
      "might be achieved by repeatedly computing a 'greedy' path or pre-computing\n",
      "the 'optimal' path and repeatedly applying it, using an `einsum_path`\n",
      "insertion (since version 1.12.0). Performance improvements can be\n",
      "particularly significant with larger arrays:\n",
      "\n",
      ">>> a = np.ones(64).reshape(2,4,8)\n",
      "\n",
      "Basic `einsum`: ~1520ms  (benchmarked on 3.1GHz Intel i5.)\n",
      "\n",
      ">>> for iteration in range(500):\n",
      "...     _ = np.einsum('ijk,ilm,njm,nlk,abc->',a,a,a,a,a)\n",
      "\n",
      "Sub-optimal `einsum` (due to repeated path calculation time): ~330ms\n",
      "\n",
      ">>> for iteration in range(500):\n",
      "...     _ = np.einsum('ijk,ilm,njm,nlk,abc->',a,a,a,a,a,\n",
      "...         optimize='optimal')\n",
      "\n",
      "Greedy `einsum` (faster optimal path approximation): ~160ms\n",
      "\n",
      ">>> for iteration in range(500):\n",
      "...     _ = np.einsum('ijk,ilm,njm,nlk,abc->',a,a,a,a,a, optimize='greedy')\n",
      "\n",
      "Optimal `einsum` (best usage pattern in some use cases): ~110ms\n",
      "\n",
      ">>> path = np.einsum_path('ijk,ilm,njm,nlk,abc->',a,a,a,a,a, \n",
      "...     optimize='optimal')[0]\n",
      ">>> for iteration in range(500):\n",
      "...     _ = np.einsum('ijk,ilm,njm,nlk,abc->',a,a,a,a,a, optimize=path)\n",
      "None\n"
     ]
    }
   ],
   "source": [
    "print(np.info(np.einsum))"
   ]
  },
  {
   "cell_type": "markdown",
   "metadata": {},
   "source": [
    "### Mathematical Functions"
   ]
  },
  {
   "cell_type": "code",
   "execution_count": 12,
   "metadata": {},
   "outputs": [
    {
     "data": {
      "text/plain": [
       "(array([1, 2, 3]),\n",
       " array([[1., 2., 3.],\n",
       "        [4., 5., 6.]]))"
      ]
     },
     "execution_count": 12,
     "metadata": {},
     "output_type": "execute_result"
    }
   ],
   "source": [
    "a,b"
   ]
  },
  {
   "cell_type": "code",
   "execution_count": 13,
   "metadata": {},
   "outputs": [
    {
     "data": {
      "text/plain": [
       "array([[ 0.,  0.,  0.],\n",
       "       [-3., -3., -3.]])"
      ]
     },
     "execution_count": 13,
     "metadata": {},
     "output_type": "execute_result"
    }
   ],
   "source": [
    "g=a-b\n",
    "g\n"
   ]
  },
  {
   "cell_type": "code",
   "execution_count": 14,
   "metadata": {},
   "outputs": [
    {
     "data": {
      "text/plain": [
       "array([[ 0.,  0.,  0.],\n",
       "       [-3., -3., -3.]])"
      ]
     },
     "execution_count": 14,
     "metadata": {},
     "output_type": "execute_result"
    }
   ],
   "source": [
    "np.subtract(a,b)"
   ]
  },
  {
   "cell_type": "code",
   "execution_count": 15,
   "metadata": {},
   "outputs": [
    {
     "data": {
      "text/plain": [
       "array([[2., 4., 6.],\n",
       "       [5., 7., 9.]])"
      ]
     },
     "execution_count": 15,
     "metadata": {},
     "output_type": "execute_result"
    }
   ],
   "source": [
    "a+b"
   ]
  },
  {
   "cell_type": "code",
   "execution_count": 16,
   "metadata": {},
   "outputs": [
    {
     "data": {
      "text/plain": [
       "array([[2., 4., 6.],\n",
       "       [5., 7., 9.]])"
      ]
     },
     "execution_count": 16,
     "metadata": {},
     "output_type": "execute_result"
    }
   ],
   "source": [
    "np.add(a,b)"
   ]
  },
  {
   "cell_type": "code",
   "execution_count": 17,
   "metadata": {},
   "outputs": [
    {
     "data": {
      "text/plain": [
       "array([[1.  , 1.  , 1.  ],\n",
       "       [0.25, 0.4 , 0.5 ]])"
      ]
     },
     "execution_count": 17,
     "metadata": {},
     "output_type": "execute_result"
    }
   ],
   "source": [
    "a/b"
   ]
  },
  {
   "cell_type": "code",
   "execution_count": 18,
   "metadata": {},
   "outputs": [
    {
     "data": {
      "text/plain": [
       "array([[1.  , 1.  , 1.  ],\n",
       "       [0.25, 0.4 , 0.5 ]])"
      ]
     },
     "execution_count": 18,
     "metadata": {},
     "output_type": "execute_result"
    }
   ],
   "source": [
    "np.divide(a,b)"
   ]
  },
  {
   "cell_type": "code",
   "execution_count": 19,
   "metadata": {},
   "outputs": [
    {
     "data": {
      "text/plain": [
       "array([[ 1.,  4.,  9.],\n",
       "       [ 4., 10., 18.]])"
      ]
     },
     "execution_count": 19,
     "metadata": {},
     "output_type": "execute_result"
    }
   ],
   "source": [
    "a*b"
   ]
  },
  {
   "cell_type": "code",
   "execution_count": 20,
   "metadata": {},
   "outputs": [
    {
     "data": {
      "text/plain": [
       "array([[ 1.,  4.,  9.],\n",
       "       [ 4., 10., 18.]])"
      ]
     },
     "execution_count": 20,
     "metadata": {},
     "output_type": "execute_result"
    }
   ],
   "source": [
    "np.multiply(a,b)"
   ]
  },
  {
   "cell_type": "code",
   "execution_count": 21,
   "metadata": {},
   "outputs": [
    {
     "data": {
      "text/plain": [
       "array([ 2.71828183,  7.3890561 , 20.08553692])"
      ]
     },
     "execution_count": 21,
     "metadata": {},
     "output_type": "execute_result"
    }
   ],
   "source": [
    "np.exp(a)"
   ]
  },
  {
   "cell_type": "code",
   "execution_count": 22,
   "metadata": {},
   "outputs": [
    {
     "data": {
      "text/plain": [
       "array([1.        , 1.41421356, 1.73205081])"
      ]
     },
     "execution_count": 22,
     "metadata": {},
     "output_type": "execute_result"
    }
   ],
   "source": [
    "np.sqrt(a)"
   ]
  },
  {
   "cell_type": "code",
   "execution_count": 23,
   "metadata": {},
   "outputs": [
    {
     "data": {
      "text/plain": [
       "(array([[1., 0.],\n",
       "        [0., 1.]]),\n",
       " array([[7, 7],\n",
       "        [7, 7]]))"
      ]
     },
     "execution_count": 23,
     "metadata": {},
     "output_type": "execute_result"
    }
   ],
   "source": [
    "f,e"
   ]
  },
  {
   "cell_type": "code",
   "execution_count": 24,
   "metadata": {},
   "outputs": [
    {
     "data": {
      "text/plain": [
       "array([[7., 7.],\n",
       "       [7., 7.]])"
      ]
     },
     "execution_count": 24,
     "metadata": {},
     "output_type": "execute_result"
    }
   ],
   "source": [
    "# dot 矩阵乘法\n",
    "e.dot(f)"
   ]
  },
  {
   "cell_type": "markdown",
   "metadata": {},
   "source": [
    "### Aggregate Functions"
   ]
  },
  {
   "cell_type": "code",
   "execution_count": null,
   "metadata": {},
   "outputs": [
    {
     "name": "stdout",
     "output_type": "stream",
     "text": [
      "[[[1.5 2.  3. ]\n",
      "  [4.  5.  6. ]]\n",
      "\n",
      " [[3.  2.  1. ]\n",
      "  [4.  5.  6. ]]]\n",
      "2.0\n",
      "[[1. 2. 3.]\n",
      " [4. 5. 6.]]\n"
     ]
    },
    {
     "data": {
      "text/plain": [
       "array([[1., 1., 1.],\n",
       "       [1., 1., 1.],\n",
       "       [1., 1., 1.]])"
      ]
     },
     "execution_count": 34,
     "metadata": {},
     "output_type": "execute_result"
    }
   ],
   "source": [
    "print(c)\n",
    "a.sum() # 求和\n",
    "# print(c.min(axis=2))  # 求最小值\n",
    "a.max()  # 求最大值\n",
    "print(a.mean()) # 求平均值\n",
    "a.std()  # 求标准差\n",
    "a.var()  # 求方差\n",
    "np.median(a) # 求中位数\n",
    "print(b)\n",
    "b.cumsum(axis=1) # 求累积和"
   ]
  },
  {
   "cell_type": "code",
   "execution_count": null,
   "metadata": {},
   "outputs": [
    {
     "name": "stdout",
     "output_type": "stream",
     "text": [
      "[1 2 3] [[1. 2. 3.]\n",
      " [4. 5. 6.]]\n",
      "[[1. 1. 1.]\n",
      " [1. 1. 1.]\n",
      " [1. 1. 1.]]\n"
     ]
    }
   ],
   "source": [
    "# 求相关系数，1表示完全正相关，-1表示完全负相关，0表示无相关\n",
    "print(a,b)\n",
    "print(np.corrcoef(a,b)) # 求相关系数\n",
    "# 求协方差，协方差是衡量两个变量之间线性相关程度的一个统计量\n",
    "# 具体过程是：先将a,b组合成一个新的矩阵，然后求这个矩阵的协方差矩阵"
   ]
  },
  {
   "cell_type": "markdown",
   "metadata": {},
   "source": [
    "###  Copying Arrays & Sorting Arrays"
   ]
  },
  {
   "cell_type": "code",
   "execution_count": 44,
   "metadata": {},
   "outputs": [
    {
     "name": "stdout",
     "output_type": "stream",
     "text": [
      "[  1   3 100]\n",
      "[100   3 100] [  1   3 100] [  1   3 100]\n"
     ]
    }
   ],
   "source": [
    "print(a)\n",
    "# 创建一个视图，视图与原数组共享数据，修改视图会影响原数组，修改原数组也会影响视图\n",
    "h = a.view() \n",
    "# 创建一个副本，副本与原数组不共享数据，修改副本不会影响原数组，修改原数组也不会影响副本\n",
    "a1 = np.copy(a)\n",
    "a2 = a.copy()\n",
    "a[0] = 100\n",
    "# 查看h,a1,a2\n",
    "print(h,a1,a2)"
   ]
  },
  {
   "cell_type": "code",
   "execution_count": 45,
   "metadata": {},
   "outputs": [
    {
     "data": {
      "text/plain": [
       "[1, 2, 3]"
      ]
     },
     "execution_count": 45,
     "metadata": {},
     "output_type": "execute_result"
    }
   ],
   "source": [
    "# 排序\n",
    "a = [1,3,2]\n",
    "a.sort()\n",
    "a"
   ]
  },
  {
   "cell_type": "markdown",
   "metadata": {},
   "source": [
    "###  Subsetting, Slicing, Indexing"
   ]
  },
  {
   "cell_type": "code",
   "execution_count": 46,
   "metadata": {},
   "outputs": [
    {
     "data": {
      "text/plain": [
       "(3, np.float64(6.0))"
      ]
     },
     "execution_count": 46,
     "metadata": {},
     "output_type": "execute_result"
    }
   ],
   "source": [
    "a[2],b[1,2]"
   ]
  },
  {
   "cell_type": "code",
   "execution_count": 48,
   "metadata": {},
   "outputs": [
    {
     "data": {
      "text/plain": [
       "array([[4., 5., 6., 4.],\n",
       "       [1., 2., 3., 1.],\n",
       "       [4., 5., 6., 4.],\n",
       "       [1., 2., 3., 1.]])"
      ]
     },
     "execution_count": 48,
     "metadata": {},
     "output_type": "execute_result"
    }
   ],
   "source": [
    "b[[1, 0, 1, 0]][:,[0,1,2,0]]"
   ]
  },
  {
   "cell_type": "markdown",
   "metadata": {},
   "source": [
    "### Array Manipulation"
   ]
  },
  {
   "cell_type": "code",
   "execution_count": 49,
   "metadata": {},
   "outputs": [
    {
     "name": "stdout",
     "output_type": "stream",
     "text": [
      "[[1. 4.]\n",
      " [2. 5.]\n",
      " [3. 6.]]\n"
     ]
    }
   ],
   "source": [
    "print(np.transpose(b))"
   ]
  },
  {
   "cell_type": "code",
   "execution_count": 50,
   "metadata": {},
   "outputs": [
    {
     "data": {
      "text/plain": [
       "array([[1., 4.],\n",
       "       [2., 5.],\n",
       "       [3., 6.]])"
      ]
     },
     "execution_count": 50,
     "metadata": {},
     "output_type": "execute_result"
    }
   ],
   "source": [
    "b.T"
   ]
  },
  {
   "cell_type": "code",
   "execution_count": 51,
   "metadata": {},
   "outputs": [
    {
     "name": "stdout",
     "output_type": "stream",
     "text": [
      "[1. 2. 3. 4. 5. 6.]\n"
     ]
    }
   ],
   "source": [
    "print(b.ravel())"
   ]
  },
  {
   "cell_type": "code",
   "execution_count": 52,
   "metadata": {},
   "outputs": [
    {
     "name": "stdout",
     "output_type": "stream",
     "text": [
      "[1. 4. 2. 5. 3. 6.]\n"
     ]
    }
   ],
   "source": [
    "print(b.T.ravel())"
   ]
  },
  {
   "cell_type": "code",
   "execution_count": 60,
   "metadata": {},
   "outputs": [
    {
     "data": {
      "text/plain": [
       "array([[1., 2., 3.],\n",
       "       [4., 5., 6.]])"
      ]
     },
     "execution_count": 60,
     "metadata": {},
     "output_type": "execute_result"
    }
   ],
   "source": [
    "# resize\n",
    "b.resize((2,3))\n",
    "b"
   ]
  },
  {
   "cell_type": "code",
   "execution_count": 65,
   "metadata": {},
   "outputs": [
    {
     "data": {
      "text/plain": [
       "array([[1., 3., 5.],\n",
       "       [2., 4., 6.]])"
      ]
     },
     "execution_count": 65,
     "metadata": {},
     "output_type": "execute_result"
    }
   ],
   "source": [
    "b.resize((3,2))\n",
    "b.T"
   ]
  },
  {
   "cell_type": "code",
   "execution_count": null,
   "metadata": {},
   "outputs": [
    {
     "data": {
      "text/plain": [
       "array([1, 2, 3, 4, 5, 6])"
      ]
     },
     "execution_count": 66,
     "metadata": {},
     "output_type": "execute_result"
    }
   ],
   "source": [
    "np.append(a,[4,5,6])"
   ]
  },
  {
   "cell_type": "code",
   "execution_count": 67,
   "metadata": {},
   "outputs": [
    {
     "data": {
      "text/plain": [
       "array([1, 5, 2, 3])"
      ]
     },
     "execution_count": 67,
     "metadata": {},
     "output_type": "execute_result"
    }
   ],
   "source": [
    "np.insert(a,1,5)"
   ]
  },
  {
   "cell_type": "code",
   "execution_count": 68,
   "metadata": {},
   "outputs": [
    {
     "data": {
      "text/plain": [
       "array([1, 3])"
      ]
     },
     "execution_count": 68,
     "metadata": {},
     "output_type": "execute_result"
    }
   ],
   "source": [
    "np.delete(a,[1])"
   ]
  },
  {
   "cell_type": "code",
   "execution_count": 76,
   "metadata": {},
   "outputs": [
    {
     "name": "stdout",
     "output_type": "stream",
     "text": [
      "[1, 2, 3] [[1. 3. 5.]\n",
      " [2. 4. 6.]]\n"
     ]
    },
    {
     "data": {
      "text/plain": [
       "array([[1., 2., 3.],\n",
       "       [1., 3., 5.],\n",
       "       [2., 4., 6.]])"
      ]
     },
     "execution_count": 76,
     "metadata": {},
     "output_type": "execute_result"
    }
   ],
   "source": [
    "print(a,b)\n",
    "np.vstack((a,b))\n",
    "# np.info(np.vstack)"
   ]
  },
  {
   "cell_type": "code",
   "execution_count": 82,
   "metadata": {},
   "outputs": [
    {
     "name": "stdout",
     "output_type": "stream",
     "text": [
      "[1, 2, 3] [[1. 3. 5.]\n",
      " [2. 4. 6.]]\n"
     ]
    },
    {
     "ename": "ValueError",
     "evalue": "all the input arrays must have same number of dimensions, but the array at index 0 has 1 dimension(s) and the array at index 1 has 2 dimension(s)",
     "output_type": "error",
     "traceback": [
      "\u001b[1;31m---------------------------------------------------------------------------\u001b[0m",
      "\u001b[1;31mValueError\u001b[0m                                Traceback (most recent call last)",
      "Cell \u001b[1;32mIn[82], line 2\u001b[0m\n\u001b[0;32m      1\u001b[0m \u001b[38;5;28mprint\u001b[39m(a,b)\n\u001b[1;32m----> 2\u001b[0m \u001b[43mnp\u001b[49m\u001b[38;5;241;43m.\u001b[39;49m\u001b[43mr_\u001b[49m\u001b[43m[\u001b[49m\u001b[43ma\u001b[49m\u001b[43m,\u001b[49m\u001b[43mb\u001b[49m\u001b[43m]\u001b[49m\n\u001b[0;32m      3\u001b[0m \u001b[38;5;66;03m# vstack 与 r_ 的区别是，vstack是按行拼接，r_是按列拼接\u001b[39;00m\n",
      "File \u001b[1;32md:\\Program\\anaconda3\\envs\\nlp\\lib\\site-packages\\numpy\\lib\\_index_tricks_impl.py:431\u001b[0m, in \u001b[0;36mAxisConcatenator.__getitem__\u001b[1;34m(self, key)\u001b[0m\n\u001b[0;32m    427\u001b[0m     \u001b[38;5;66;03m# concatenate could do cast, but that can be overridden:\u001b[39;00m\n\u001b[0;32m    428\u001b[0m     objs \u001b[38;5;241m=\u001b[39m [array(obj, copy\u001b[38;5;241m=\u001b[39m\u001b[38;5;28;01mNone\u001b[39;00m, subok\u001b[38;5;241m=\u001b[39m\u001b[38;5;28;01mTrue\u001b[39;00m,\n\u001b[0;32m    429\u001b[0m                   ndmin\u001b[38;5;241m=\u001b[39mndmin, dtype\u001b[38;5;241m=\u001b[39mfinal_dtype) \u001b[38;5;28;01mfor\u001b[39;00m obj \u001b[38;5;129;01min\u001b[39;00m objs]\n\u001b[1;32m--> 431\u001b[0m res \u001b[38;5;241m=\u001b[39m \u001b[38;5;28;43mself\u001b[39;49m\u001b[38;5;241;43m.\u001b[39;49m\u001b[43mconcatenate\u001b[49m\u001b[43m(\u001b[49m\u001b[38;5;28;43mtuple\u001b[39;49m\u001b[43m(\u001b[49m\u001b[43mobjs\u001b[49m\u001b[43m)\u001b[49m\u001b[43m,\u001b[49m\u001b[43m \u001b[49m\u001b[43maxis\u001b[49m\u001b[38;5;241;43m=\u001b[39;49m\u001b[43maxis\u001b[49m\u001b[43m)\u001b[49m\n\u001b[0;32m    433\u001b[0m \u001b[38;5;28;01mif\u001b[39;00m matrix:\n\u001b[0;32m    434\u001b[0m     oldndim \u001b[38;5;241m=\u001b[39m res\u001b[38;5;241m.\u001b[39mndim\n",
      "\u001b[1;31mValueError\u001b[0m: all the input arrays must have same number of dimensions, but the array at index 0 has 1 dimension(s) and the array at index 1 has 2 dimension(s)"
     ]
    }
   ],
   "source": [
    "print(a,b)\n",
    "np.r_[a,b]\n",
    "# vstack 与 r_ 的区别是，vstack是按行拼接，r_是按列拼接"
   ]
  },
  {
   "cell_type": "code",
   "execution_count": 81,
   "metadata": {},
   "outputs": [
    {
     "data": {
      "text/plain": [
       "array([[7., 7.],\n",
       "       [7., 7.],\n",
       "       [1., 0.],\n",
       "       [0., 1.]])"
      ]
     },
     "execution_count": 81,
     "metadata": {},
     "output_type": "execute_result"
    }
   ],
   "source": [
    "np.vstack((e,f))"
   ]
  },
  {
   "cell_type": "code",
   "execution_count": null,
   "metadata": {},
   "outputs": [],
   "source": []
  }
 ],
 "metadata": {
  "kernelspec": {
   "display_name": "nlp",
   "language": "python",
   "name": "python3"
  },
  "language_info": {
   "codemirror_mode": {
    "name": "ipython",
    "version": 3
   },
   "file_extension": ".py",
   "mimetype": "text/x-python",
   "name": "python",
   "nbconvert_exporter": "python",
   "pygments_lexer": "ipython3",
   "version": "3.9.21"
  }
 },
 "nbformat": 4,
 "nbformat_minor": 2
}
