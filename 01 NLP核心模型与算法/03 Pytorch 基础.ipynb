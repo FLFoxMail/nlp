{
 "cells": [
  {
   "cell_type": "markdown",
   "metadata": {},
   "source": [
    "## PyTorch 基础\n",
    "- 学习目标：\n",
    "1. Tensor操作：掌握Tensor的创建、索引、切片、变形（reshape）、广播等基本操作。\n",
    "2. 自动求导（Autograd）：理解torch.autograd的工作原理，掌握backward()的使用。\n",
    "3. 模型定义：学习如何使用torch.nn.Module定义神经网络，包括层（Layer）的定义和顺序模型（Sequential）的使用。\n",
    "4. 优化器与损失函数：熟悉常用的优化器（如SGD、Adam）和损失函数（如交叉熵、MSE。"
   ]
  },
  {
   "cell_type": "markdown",
   "metadata": {},
   "source": []
  },
  {
   "cell_type": "markdown",
   "metadata": {},
   "source": [
    "### Tensor操作"
   ]
  },
  {
   "cell_type": "code",
   "execution_count": 22,
   "metadata": {},
   "outputs": [
    {
     "name": "stdout",
     "output_type": "stream",
     "text": [
      "tensor([[-1.6305e+06,  9.3186e-43,  0.0000e+00],\n",
      "        [ 0.0000e+00,  0.0000e+00,  0.0000e+00],\n",
      "        [ 0.0000e+00,  0.0000e+00,  0.0000e+00],\n",
      "        [ 0.0000e+00,  0.0000e+00,  0.0000e+00],\n",
      "        [ 0.0000e+00,  0.0000e+00,  0.0000e+00]])\n",
      "tensor([[0.1518, 0.6909, 0.3255],\n",
      "        [0.2687, 0.8549, 0.6882],\n",
      "        [0.6149, 0.4646, 0.2184],\n",
      "        [0.5632, 0.3889, 0.8105],\n",
      "        [0.3986, 0.5666, 0.0559]])\n",
      "tensor([[0, 0, 0],\n",
      "        [0, 0, 0],\n",
      "        [0, 0, 0],\n",
      "        [0, 0, 0],\n",
      "        [0, 0, 0]])\n",
      "tensor([5.5000, 3.0000])\n"
     ]
    }
   ],
   "source": [
    "# 创建Tensor\n",
    "import torch\n",
    "\n",
    "# 创建一个未初始化的5x3矩阵\n",
    "x = torch.empty(5, 3)\n",
    "print(x)\n",
    "\n",
    "# 创建一个随机初始化的5x3矩阵\n",
    "x = torch.rand(5, 3)\n",
    "print(x)\n",
    "\n",
    "# 创建一个全0的5x3矩阵\n",
    "x = torch.zeros(5, 3, dtype=torch.long)\n",
    "print(x)\n",
    "\n",
    "# 直接从数据创建Tensor\n",
    "x = torch.tensor([5.5, 3])\n",
    "print(x)"
   ]
  },
  {
   "cell_type": "code",
   "execution_count": null,
   "metadata": {},
   "outputs": [
    {
     "name": "stdout",
     "output_type": "stream",
     "text": [
      "tensor([0.0056, 0.1510, 0.3192])\n",
      "tensor(0.3192)\n",
      "tensor([[0.0056, 0.1510, 0.3192],\n",
      "        [0.9880, 0.5651, 0.4452]])\n",
      "tensor([[0.2922, 0.0046],\n",
      "        [0.1510, 0.3192],\n",
      "        [0.5651, 0.4452],\n",
      "        [0.7584, 0.9527],\n",
      "        [0.5202, 0.9274]])\n"
     ]
    }
   ],
   "source": [
    "# tensor 索引\n",
    "x = torch.rand(5, 3)\n",
    "\n",
    "# 访问第1行\n",
    "print(x[1])\n",
    "\n",
    "# 访问第1行第2列\n",
    "print(x[1][2])\n",
    "\n",
    "# 使用切片访问第1行到第3行\n",
    "print(x[1:3])\n",
    "\n",
    "# 使用切片访问第1列到第3列\n",
    "print(x[:, 1:3])"
   ]
  },
  {
   "cell_type": "code",
   "execution_count": 25,
   "metadata": {},
   "outputs": [
    {
     "name": "stdout",
     "output_type": "stream",
     "text": [
      "y: tensor([0.8667, 0.8576, 0.6768, 0.3228, 0.9768, 0.4070, 0.0441, 0.0695, 0.5628,\n",
      "        0.2685, 0.6328, 0.1543, 0.5166, 0.9839, 0.2098, 0.2485])\n",
      "z: tensor([[0.8667, 0.8576, 0.6768, 0.3228, 0.9768, 0.4070, 0.0441, 0.0695],\n",
      "        [0.5628, 0.2685, 0.6328, 0.1543, 0.5166, 0.9839, 0.2098, 0.2485]])\n"
     ]
    }
   ],
   "source": [
    "# 使用reshape改变Tensor的形状\n",
    "x = torch.rand(4, 4)\n",
    "y = x.reshape(16)\n",
    "z = x.reshape(-1, 8)  # -1表示自动计算该维度的大小\n",
    "print(\"y:\", y)\n",
    "print(\"z:\", z)"
   ]
  },
  {
   "cell_type": "code",
   "execution_count": 30,
   "metadata": {},
   "outputs": [
    {
     "name": "stdout",
     "output_type": "stream",
     "text": [
      "x: tensor([[1., 1., 1.],\n",
      "        [1., 1., 1.],\n",
      "        [1., 1., 1.],\n",
      "        [1., 1., 1.],\n",
      "        [1., 1., 1.]])\n",
      "y: tensor([[1., 1., 1.]])\n",
      "z: tensor([[2., 2., 2.],\n",
      "        [2., 2., 2.],\n",
      "        [2., 2., 2.],\n",
      "        [2., 2., 2.],\n",
      "        [2., 2., 2.]])\n"
     ]
    }
   ],
   "source": [
    "# 广播机制允许不同形状的Tensor进行算术运算，只要它们的形状兼容。\n",
    "\n",
    "x = torch.ones(5, 3)\n",
    "y = torch.ones(1, 3)\n",
    "print(\"x:\", x)\n",
    "print(\"y:\", y)\n",
    "\n",
    "z = torch.add(x, y)\n",
    "print(\"z:\", z)"
   ]
  },
  {
   "cell_type": "markdown",
   "metadata": {},
   "source": [
    "### 自动求导\n",
    "\n",
    "#### Autograd"
   ]
  },
  {
   "cell_type": "code",
   "execution_count": 31,
   "metadata": {},
   "outputs": [
    {
     "name": "stdout",
     "output_type": "stream",
     "text": [
      "tensor(4.)\n"
     ]
    }
   ],
   "source": [
    "# Autograd是PyTorch的自动求导引擎，它能够自动计算梯度，是PyTorch进行深度学习的基础。\n",
    "\n",
    "# 创建一个Tensor，并设置requires_grad=True，表示需要计算梯度\n",
    "x = torch.tensor(2.0, requires_grad=True)\n",
    "\n",
    "# 进行一些操作\n",
    "y = x**2 + 3\n",
    "\n",
    "# 计算梯度\n",
    "y.backward()\n",
    "\n",
    "# 查看梯度\n",
    "print(x.grad)"
   ]
  },
  {
   "cell_type": "markdown",
   "metadata": {},
   "source": []
  }
 ],
 "metadata": {
  "kernelspec": {
   "display_name": "nlp",
   "language": "python",
   "name": "python3"
  },
  "language_info": {
   "codemirror_mode": {
    "name": "ipython",
    "version": 3
   },
   "file_extension": ".py",
   "mimetype": "text/x-python",
   "name": "python",
   "nbconvert_exporter": "python",
   "pygments_lexer": "ipython3",
   "version": "3.9.21"
  }
 },
 "nbformat": 4,
 "nbformat_minor": 2
}
